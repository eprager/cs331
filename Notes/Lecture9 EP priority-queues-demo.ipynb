{
 "cells": [
  {
   "cell_type": "markdown",
   "metadata": {},
   "source": [
    "# Priority Queues\n",
    "\n",
    "## Agenda\n",
    "\n",
    "1. Motives\n",
    "2. Naive implementation\n",
    "2. Heaps\n",
    "    - Mechanics\n",
    "    - Implementation\n",
    "    - Run-time Analysis\n",
    "3. Heapsort"
   ]
  },
  {
   "cell_type": "markdown",
   "metadata": {},
   "source": [
    "## 1. Motives"
   ]
  },
  {
   "cell_type": "markdown",
   "metadata": {},
   "source": [
    "## 2. Naive implementation"
   ]
  },
  {
   "cell_type": "code",
   "execution_count": 37,
   "metadata": {},
   "outputs": [],
   "source": [
    "class PriorityQueue:\n",
    "    def __init__(self):\n",
    "        self.data = []\n",
    "        \n",
    "    def add(self, x): #O(N)\n",
    "        for i in range(len(self.data)):\n",
    "            if x > self.data[i]:\n",
    "                self.data.insert(i, x)\n",
    "                break\n",
    "        else:\n",
    "            self.data.append(x)\n",
    "    \n",
    "    def max(self): #O(1)\n",
    "        return self.data[0]\n",
    "\n",
    "    def pop_max(self): #O(N) because everything needs to be shifted down when deleted\n",
    "        return self.data.pop(0)\n",
    "    \n",
    "    def __bool__(self):\n",
    "        return len(self.data) > 0\n",
    "\n",
    "    def __len__(self):\n",
    "        return len(self.data)\n",
    "\n",
    "    def __repr__(self):\n",
    "        return repr(self.data)"
   ]
  },
  {
   "cell_type": "code",
   "execution_count": 38,
   "metadata": {},
   "outputs": [],
   "source": [
    "pq = PriorityQueue()"
   ]
  },
  {
   "cell_type": "code",
   "execution_count": 39,
   "metadata": {},
   "outputs": [],
   "source": [
    "import random\n",
    "for _ in range(10):\n",
    "    pq.add(random.randrange(100))"
   ]
  },
  {
   "cell_type": "code",
   "execution_count": 40,
   "metadata": {},
   "outputs": [
    {
     "data": {
      "text/plain": [
       "[96, 46, 35, 30, 28, 27, 26, 20, 18, 4]"
      ]
     },
     "execution_count": 40,
     "metadata": {},
     "output_type": "execute_result"
    }
   ],
   "source": [
    "pq"
   ]
  },
  {
   "cell_type": "code",
   "execution_count": 41,
   "metadata": {},
   "outputs": [
    {
     "name": "stdout",
     "output_type": "stream",
     "text": [
      "96\n",
      "46\n",
      "35\n",
      "30\n",
      "28\n",
      "27\n",
      "26\n",
      "20\n",
      "18\n",
      "4\n"
     ]
    }
   ],
   "source": [
    "while pq:\n",
    "    print(pq.pop_max())"
   ]
  },
  {
   "cell_type": "markdown",
   "metadata": {},
   "source": [
    "## 3. Heaps"
   ]
  },
  {
   "cell_type": "markdown",
   "metadata": {},
   "source": [
    "### Mechanics"
   ]
  },
  {
   "cell_type": "markdown",
   "metadata": {},
   "source": [
    "### Implementation"
   ]
  },
  {
   "cell_type": "code",
   "execution_count": 42,
   "metadata": {},
   "outputs": [],
   "source": [
    "class Heap:\n",
    "    def __init__(self):\n",
    "        self.data = []\n",
    "    \n",
    "    @staticmethod\n",
    "    def _parent(i):\n",
    "        return (i-1)//2\n",
    "    \n",
    "    @staticmethod\n",
    "    def _left(i):\n",
    "        return 2*i+1\n",
    "    \n",
    "    @staticmethod\n",
    "    def _right(i):\n",
    "        return 2*i+2\n",
    "    \n",
    "    def add(self, x): #O(log_2 N) aka O(log N)\n",
    "        self.data.append(x)\n",
    "        idx = len(self.data)-1\n",
    "        pidx = self._parent(idx)\n",
    "        while pidx >= 0 and self.data[idx] > self.data[pidx]:\n",
    "            self.data[idx], self.data[pidx] = self.data[pidx], self.data[idx]\n",
    "            idx = pidx\n",
    "            pidx = self._parent(idx)\n",
    "    \n",
    "    def max(self): #O(1)\n",
    "        assert self.data\n",
    "        return self.data[0]\n",
    "    \n",
    "    def _heapify(self): #O(log N)\n",
    "        idx = 0\n",
    "        lidx = self._left(idx)\n",
    "        ridx = self._right(idx)\n",
    "        while idx < len(self.data):\n",
    "            maxidx = idx\n",
    "            if lidx < len(self.data) and self.data[lidx] > self.data[maxidx]:\n",
    "                maxidx = lidx\n",
    "            if ridx < len(self.data) and self.data[ridx] > self.data[maxidx]:\n",
    "                maxidx = ridx\n",
    "            #now maxidx contains the idx of the max element between idx, lidx, and ridx\n",
    "            if maxidx != idx:\n",
    "                self.data[idx], self.data[maxidx] = self.data[maxidx], self.data[idx]\n",
    "                idx = maxidx\n",
    "                lidx = self._left(idx)\n",
    "                ridx = self._right(idx)\n",
    "            else:\n",
    "                break\n",
    "\n",
    "    def pop_max(self): #O(log N): due to heapify\n",
    "        assert self.data\n",
    "        rv = self.data[0]\n",
    "        self.data[0] = self.data[-1]\n",
    "        del self.data[len(self.data)-1] #O(1) time\n",
    "        #now push new val at root down to its correct pos (heapification)\n",
    "        self._heapify()\n",
    "        return rv\n",
    "    \n",
    "    def __bool__(self):\n",
    "        return len(self.data) > 0\n",
    "\n",
    "    def __len__(self):\n",
    "        return len(self.data)\n",
    "\n",
    "    def __repr__(self):\n",
    "        return repr(self.data)"
   ]
  },
  {
   "cell_type": "code",
   "execution_count": 43,
   "metadata": {},
   "outputs": [],
   "source": [
    "h = Heap()"
   ]
  },
  {
   "cell_type": "code",
   "execution_count": 44,
   "metadata": {},
   "outputs": [],
   "source": [
    "import random\n",
    "for _ in range(10):\n",
    "    h.add(random.randrange(100))"
   ]
  },
  {
   "cell_type": "code",
   "execution_count": 45,
   "metadata": {},
   "outputs": [
    {
     "data": {
      "text/plain": [
       "[91, 85, 80, 74, 83, 12, 70, 60, 55, 31]"
      ]
     },
     "execution_count": 45,
     "metadata": {},
     "output_type": "execute_result"
    }
   ],
   "source": [
    "h"
   ]
  },
  {
   "cell_type": "code",
   "execution_count": 46,
   "metadata": {},
   "outputs": [
    {
     "data": {
      "text/plain": [
       "[91, 85, 80, 74, 83, 12, 70, 60, 55, 31, 3]"
      ]
     },
     "execution_count": 46,
     "metadata": {},
     "output_type": "execute_result"
    }
   ],
   "source": [
    "h.add(3)\n",
    "h"
   ]
  },
  {
   "cell_type": "code",
   "execution_count": 47,
   "metadata": {},
   "outputs": [
    {
     "name": "stdout",
     "output_type": "stream",
     "text": [
      "91\n",
      "85\n",
      "83\n",
      "80\n",
      "74\n",
      "70\n",
      "60\n",
      "55\n",
      "31\n",
      "12\n",
      "3\n"
     ]
    }
   ],
   "source": [
    "while h:\n",
    "    print(h.pop_max())"
   ]
  },
  {
   "cell_type": "markdown",
   "metadata": {},
   "source": [
    "### Run-time Analysis"
   ]
  },
  {
   "cell_type": "markdown",
   "metadata": {},
   "source": [
    "## 4. Heapsort"
   ]
  },
  {
   "cell_type": "code",
   "execution_count": 54,
   "metadata": {},
   "outputs": [],
   "source": [
    "def heapsort(iterable): #O(N logN)\n",
    "    heap = Heap()\n",
    "    for x in iterable:\n",
    "        heap.add(x)\n",
    "    lst = []\n",
    "    while heap:\n",
    "        lst.append(heap.pop_max())\n",
    "    lst.reverse()\n",
    "    return lst"
   ]
  },
  {
   "cell_type": "code",
   "execution_count": 55,
   "metadata": {},
   "outputs": [
    {
     "data": {
      "text/plain": [
       "[7, 21, 26, 28, 35, 42, 51, 52, 54, 57, 60, 69, 81, 95, 98]"
      ]
     },
     "execution_count": 55,
     "metadata": {},
     "output_type": "execute_result"
    }
   ],
   "source": [
    "heapsort(random.randrange(100) for _ in range(15))"
   ]
  },
  {
   "cell_type": "code",
   "execution_count": 56,
   "metadata": {},
   "outputs": [
    {
     "name": "stderr",
     "output_type": "stream",
     "text": [
      "C:\\Users\\Emma\\Anaconda3\\lib\\site-packages\\ipykernel_launcher.py:12: DeprecationWarning: generator 'pairs' raised StopIteration\n",
      "  if sys.path[0] == '':\n"
     ]
    },
    {
     "data": {
      "text/plain": [
       "True"
      ]
     },
     "execution_count": 56,
     "metadata": {},
     "output_type": "execute_result"
    }
   ],
   "source": [
    "import random\n",
    "\n",
    "def pairs(iterable):\n",
    "    it = iter(iterable)\n",
    "    a = next(it)\n",
    "    while True:\n",
    "        b = next(it)\n",
    "        yield a,b\n",
    "        a = b\n",
    "\n",
    "lst = heapsort(random.random() for _ in range(1000))\n",
    "all((a <= b) for a, b in pairs(lst))"
   ]
  },
  {
   "cell_type": "code",
   "execution_count": 57,
   "metadata": {},
   "outputs": [],
   "source": [
    "import timeit\n",
    "def time_heapsort(n):\n",
    "    return timeit.timeit('heapsort(rlst)',\n",
    "                         'from __main__ import heapsort; '\n",
    "                         'import random; '\n",
    "                         'rlst = (random.random() for _ in range({}))'.format(n),\n",
    "                         number=1000)"
   ]
  },
  {
   "cell_type": "code",
   "execution_count": 58,
   "metadata": {},
   "outputs": [
    {
     "data": {
      "image/png": "[encoded data removed]",
      "text/plain": [
       "<Figure size 432x288 with 1 Axes>"
      ]
     },
     "metadata": {},
     "output_type": "display_data"
    }
   ],
   "source": [
    "%matplotlib inline\n",
    "import matplotlib.pyplot as plt\n",
    "import numpy as np\n",
    "\n",
    "ns = np.linspace(100, 10000, 50, dtype=np.int_)\n",
    "plt.plot(ns, [time_heapsort(n) for n in ns], 'r+')\n",
    "plt.show()"
   ]
  },
  {
   "cell_type": "code",
   "execution_count": 59,
   "metadata": {},
   "outputs": [
    {
     "data": {
      "image/png": "[encoded data removed]",
      "text/plain": [
       "<Figure size 432x288 with 1 Axes>"
      ]
     },
     "metadata": {},
     "output_type": "display_data"
    }
   ],
   "source": [
    "%matplotlib inline\n",
    "import matplotlib.pyplot as plt\n",
    "import numpy as np\n",
    "\n",
    "ns = np.linspace(100, 10000, 50, dtype=np.int_)\n",
    "plt.plot(ns, [time_heapsort(n) for n in ns], 'r+')\n",
    "plt.plot(ns, ns*np.log2(ns)*0.01/10000, 'b') # O(n log n) plot\n",
    "plt.show()"
   ]
  }
 ],
 "metadata": {
  "kernelspec": {
   "display_name": "Python 3",
   "language": "python",
   "name": "python3"
  },
  "language_info": {
   "codemirror_mode": {
    "name": "ipython",
    "version": 3
   },
   "file_extension": ".py",
   "mimetype": "text/x-python",
   "name": "python",
   "nbconvert_exporter": "python",
   "pygments_lexer": "ipython3",
   "version": "3.6.5"
  }
 },
 "nbformat": 4,
 "nbformat_minor": 1
}
