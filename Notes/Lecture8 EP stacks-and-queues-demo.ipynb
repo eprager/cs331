{
 "cells": [
  {
   "cell_type": "markdown",
   "metadata": {},
   "source": [
    "# Stacks and Queues\n",
    "\n",
    "## Agenda\n",
    "\n",
    "1. Stacks (last in, first out (LIFO) / first in, last out)\n",
    "     - ... for delimiter pairing\n",
    "     - ... for postfix expression evaluation\n",
    "     - ... for tracking execution and *backtracking*\n",
    "2. Queues\n",
    "    - ... for tracking execution and *backtracking*\n",
    "    - ... for apportioning work\n",
    "    - ... for fair scheduling (aka \"round-robin\" scheduling)\n",
    "3. Run-time analysis\n",
    "4. Closing remarks"
   ]
  },
  {
   "cell_type": "markdown",
   "metadata": {},
   "source": [
    "## Overview"
   ]
  },
  {
   "cell_type": "markdown",
   "metadata": {},
   "source": [
    "While the list data structure is incredibly useful, both implementations we explored (array-backed and linked) have operations that run in $O(N)$ time, which make them non-ideal for use with large, growing collections of data.\n",
    "\n",
    "By further restricting the list API, however — in particular, by *isolating points of access to either the front or end of the data set* — we can create data structures whose operations are all $O(1)$, and remain very useful in their own right."
   ]
  },
  {
   "cell_type": "markdown",
   "metadata": {},
   "source": [
    "## 1. Stacks"
   ]
  },
  {
   "cell_type": "markdown",
   "metadata": {},
   "source": [
    "Stacks are linear data structures which only permit access to one \"end\" of the data collection. We can only append (\"push\") items onto the tail end (a.k.a. the \"top\") of a stack, and only the most recently added item can be removed (\"popped\"). The last item to be pushed onto a stack is therefore the first one to be popped off, which is why we refer to stacks as last-in, first out (LIFO) structures.\n",
    "\n",
    "Constant time run-time performance"
   ]
  },
  {
   "cell_type": "code",
   "execution_count": 7,
   "metadata": {},
   "outputs": [],
   "source": [
    "# array-backed implementation\n",
    "\n",
    "class Stack:\n",
    "    def __init__(self):\n",
    "        self.data = []\n",
    "        \n",
    "    def push(self, val):\n",
    "        self.data.append(val)\n",
    "    \n",
    "    def pop(self):\n",
    "        assert(self.data)\n",
    "        rv = self.data[-1]\n",
    "        del self.data[-1]\n",
    "        return rv\n",
    "    \n",
    "    def empty(self):\n",
    "        return(len(self.data) == 0)\n",
    "    \n",
    "    def __bool__(self):\n",
    "        return not self.empty()"
   ]
  },
  {
   "cell_type": "code",
   "execution_count": 14,
   "metadata": {},
   "outputs": [],
   "source": [
    "s = Stack()\n",
    "for x in range(10):\n",
    "    s.push(x)"
   ]
  },
  {
   "cell_type": "code",
   "execution_count": 15,
   "metadata": {},
   "outputs": [
    {
     "name": "stdout",
     "output_type": "stream",
     "text": [
      "9\n",
      "8\n",
      "7\n",
      "6\n",
      "5\n",
      "4\n",
      "3\n",
      "2\n",
      "1\n",
      "0\n"
     ]
    }
   ],
   "source": [
    "while s:\n",
    "    print(s.pop())"
   ]
  },
  {
   "cell_type": "code",
   "execution_count": 10,
   "metadata": {},
   "outputs": [
    {
     "data": {
      "text/plain": [
       "False"
      ]
     },
     "execution_count": 10,
     "metadata": {},
     "output_type": "execute_result"
    }
   ],
   "source": [
    "s2 = Stack()\n",
    "bool(s2)"
   ]
  },
  {
   "cell_type": "code",
   "execution_count": 31,
   "metadata": {},
   "outputs": [],
   "source": [
    "# linked implementation\n",
    "\n",
    "class Stack:\n",
    "    class Node:\n",
    "        def __init__(self, val, next=None):\n",
    "            self.val = val\n",
    "            self.next  = next\n",
    "    \n",
    "    def __init__(self):\n",
    "        self.top = None\n",
    "\n",
    "    def push(self, val):\n",
    "        self.top = Stack.Node(val,next=self.top)\n",
    "        \n",
    "    def pop(self):\n",
    "        assert(self.top)\n",
    "        rv = self.top.val\n",
    "        self.top = self.top.next\n",
    "        return rv\n",
    "    \n",
    "    def empty(self):\n",
    "        return self.top is None\n",
    "    \n",
    "    def __bool__(self):\n",
    "        return not self.empty()"
   ]
  },
  {
   "cell_type": "code",
   "execution_count": 32,
   "metadata": {},
   "outputs": [],
   "source": [
    "s = Stack()\n",
    "for x in range(10):\n",
    "    s.push(x)"
   ]
  },
  {
   "cell_type": "code",
   "execution_count": 33,
   "metadata": {},
   "outputs": [
    {
     "name": "stdout",
     "output_type": "stream",
     "text": [
      "9\n",
      "8\n",
      "7\n",
      "6\n",
      "5\n",
      "4\n",
      "3\n",
      "2\n",
      "1\n",
      "0\n"
     ]
    }
   ],
   "source": [
    "while s:\n",
    "    print(s.pop())"
   ]
  },
  {
   "cell_type": "markdown",
   "metadata": {},
   "source": [
    "### ... for delimiter pairing\n",
    "\n",
    "e.g., `'(1 + 2 * (3 - (4 / 2) + 5) - (6 + 1))'`"
   ]
  },
  {
   "cell_type": "code",
   "execution_count": 41,
   "metadata": {},
   "outputs": [],
   "source": [
    "def check_parens(expr):\n",
    "    s = Stack()\n",
    "    for c in expr:\n",
    "        if c == '(':\n",
    "            s.push(c)\n",
    "        elif c == ')':\n",
    "            try:\n",
    "                assert s.pop() == '('\n",
    "            except:\n",
    "                return False\n",
    "    return s.empty()"
   ]
  },
  {
   "cell_type": "code",
   "execution_count": 42,
   "metadata": {},
   "outputs": [
    {
     "data": {
      "text/plain": [
       "True"
      ]
     },
     "execution_count": 42,
     "metadata": {},
     "output_type": "execute_result"
    }
   ],
   "source": [
    "check_parens('()')"
   ]
  },
  {
   "cell_type": "code",
   "execution_count": 43,
   "metadata": {},
   "outputs": [
    {
     "data": {
      "text/plain": [
       "True"
      ]
     },
     "execution_count": 43,
     "metadata": {},
     "output_type": "execute_result"
    }
   ],
   "source": [
    "check_parens('((()))')"
   ]
  },
  {
   "cell_type": "code",
   "execution_count": 44,
   "metadata": {},
   "outputs": [
    {
     "data": {
      "text/plain": [
       "True"
      ]
     },
     "execution_count": 44,
     "metadata": {},
     "output_type": "execute_result"
    }
   ],
   "source": [
    "check_parens('()(()()(()))')"
   ]
  },
  {
   "cell_type": "code",
   "execution_count": 45,
   "metadata": {},
   "outputs": [
    {
     "data": {
      "text/plain": [
       "False"
      ]
     },
     "execution_count": 45,
     "metadata": {},
     "output_type": "execute_result"
    }
   ],
   "source": [
    "check_parens('(')"
   ]
  },
  {
   "cell_type": "code",
   "execution_count": 46,
   "metadata": {},
   "outputs": [
    {
     "data": {
      "text/plain": [
       "False"
      ]
     },
     "execution_count": 46,
     "metadata": {},
     "output_type": "execute_result"
    }
   ],
   "source": [
    "check_parens('())')"
   ]
  },
  {
   "cell_type": "code",
   "execution_count": 47,
   "metadata": {},
   "outputs": [
    {
     "data": {
      "text/plain": [
       "True"
      ]
     },
     "execution_count": 47,
     "metadata": {},
     "output_type": "execute_result"
    }
   ],
   "source": [
    "check_parens('(1 + 2 * (3 - (4 / 2) + 5) - (6 + 1))')"
   ]
  },
  {
   "cell_type": "markdown",
   "metadata": {},
   "source": [
    "### ... for postfix expression (aka \"reverse polish notation\") evaluation\n",
    "\n",
    "e.g., `'(1 + 2) * 5'` $\\rightarrow$ `'1 2 + 5 *'` (1 ENTER 2 + ENTER 5 *)"
   ]
  },
  {
   "cell_type": "code",
   "execution_count": 48,
   "metadata": {},
   "outputs": [],
   "source": [
    "def eval_postfix(expr):\n",
    "    s = Stack()\n",
    "    toks = expr.split()\n",
    "    for t in toks:\n",
    "        if t == '+':\n",
    "            s.push(s.pop() + s.pop())\n",
    "        elif t == '*':\n",
    "            s.push(s.pop() * s.pop())\n",
    "        else: #number\n",
    "            s.push(int(t))\n",
    "    return s.pop()"
   ]
  },
  {
   "cell_type": "code",
   "execution_count": 49,
   "metadata": {},
   "outputs": [
    {
     "data": {
      "text/plain": [
       "15"
      ]
     },
     "execution_count": 49,
     "metadata": {},
     "output_type": "execute_result"
    }
   ],
   "source": [
    "eval_postfix('1 2 + 5 *')"
   ]
  },
  {
   "cell_type": "code",
   "execution_count": 50,
   "metadata": {},
   "outputs": [
    {
     "data": {
      "text/plain": [
       "11"
      ]
     },
     "execution_count": 50,
     "metadata": {},
     "output_type": "execute_result"
    }
   ],
   "source": [
    "eval_postfix('1 2 5 * +')"
   ]
  },
  {
   "cell_type": "code",
   "execution_count": 51,
   "metadata": {},
   "outputs": [
    {
     "data": {
      "text/plain": [
       "150"
      ]
     },
     "execution_count": 51,
     "metadata": {},
     "output_type": "execute_result"
    }
   ],
   "source": [
    "# ((1 + 2) * (3 + 2)) * 10\n",
    "eval_postfix('1 2 + 3 2 + * 10 *')"
   ]
  },
  {
   "cell_type": "code",
   "execution_count": 53,
   "metadata": {},
   "outputs": [],
   "source": [
    "#Check is number using _.isdigit()"
   ]
  },
  {
   "cell_type": "markdown",
   "metadata": {},
   "source": [
    "### ... for tracking execution and backtracking"
   ]
  },
  {
   "cell_type": "code",
   "execution_count": 54,
   "metadata": {},
   "outputs": [],
   "source": [
    "maze_str = \"\"\"######   \n",
    "              I    #   \n",
    "              # ## #   \n",
    "              # ####   \n",
    "              #    O   \n",
    "              ######\"\"\"\n",
    "\n",
    "def parse_maze(maze_str):\n",
    "    grid = []\n",
    "    for line in maze_str.split('\\n'):\n",
    "        grid.append(['# IO'.index(c) for c in line.strip()])\n",
    "    return grid\n",
    "\n",
    "def print_maze(grid):\n",
    "    for r in grid:\n",
    "        print(''.join('# IO!+'[c] for c in r))"
   ]
  },
  {
   "cell_type": "code",
   "execution_count": 55,
   "metadata": {},
   "outputs": [
    {
     "data": {
      "text/plain": [
       "[[0, 0, 0, 0, 0, 0],\n",
       " [2, 1, 1, 1, 1, 0],\n",
       " [0, 1, 0, 0, 1, 0],\n",
       " [0, 1, 0, 0, 0, 0],\n",
       " [0, 1, 1, 1, 1, 3],\n",
       " [0, 0, 0, 0, 0, 0]]"
      ]
     },
     "execution_count": 55,
     "metadata": {},
     "output_type": "execute_result"
    }
   ],
   "source": [
    "parse_maze(maze_str)"
   ]
  },
  {
   "cell_type": "code",
   "execution_count": 56,
   "metadata": {},
   "outputs": [
    {
     "name": "stdout",
     "output_type": "stream",
     "text": [
      "######\n",
      "I!   #\n",
      "# ## #\n",
      "# ####\n",
      "#    O\n",
      "######\n"
     ]
    }
   ],
   "source": [
    "maze = parse_maze(maze_str)\n",
    "maze[1][1] = 4\n",
    "print_maze(maze)"
   ]
  },
  {
   "cell_type": "code",
   "execution_count": 57,
   "metadata": {},
   "outputs": [],
   "source": [
    "class Move:\n",
    "    def __init__(self, frm, to):\n",
    "        self.frm = frm\n",
    "        self.to  = to\n",
    "        \n",
    "    def __repr__(self):\n",
    "        return '({},{}) -> ({},{})'.format(self.frm[0], self.frm[1],\n",
    "                                           self.to[0],  self.to[1])\n",
    "\n",
    "def moves(maze, place):\n",
    "    moves = [Move(place, (place[0]+d[0], place[1]+d[1]))\n",
    "            for d in ((-1, 0), (1, 0), (0, -1), (0, 1))\n",
    "            if place[0]+d[0] in range(len(maze)) and \n",
    "               place[1]+d[1] in range(len(maze[0])) and\n",
    "               maze[place[0]+d[0]][place[1]+d[1]] in (1, 2, 3)]\n",
    "    return moves"
   ]
  },
  {
   "cell_type": "code",
   "execution_count": 58,
   "metadata": {},
   "outputs": [],
   "source": [
    "from time import sleep\n",
    "from IPython.display import clear_output\n",
    "\n",
    "def visit(maze, loc):\n",
    "    \"\"\"Annotates a loc in the maze as visited\"\"\"\n",
    "    maze[loc[0]][loc[1]] = 5\n",
    "    \n",
    "def mark(maze, loc):\n",
    "    \"\"\"Annotates a loc in the maze as being of interest\"\"\"\n",
    "    if maze[loc[0]][loc[1]] != 3:\n",
    "        maze[loc[0]][loc[1]] = 4\n",
    "    \n",
    "def display(maze):\n",
    "    clear_output(True)\n",
    "    print_maze(maze)\n",
    "    sleep(0.5)\n",
    "\n",
    "def solve_maze(maze, entry):\n",
    "    for m in moves(maze, entry):\n",
    "        save_move(m)\n",
    "    visit(maze, entry)\n",
    "    while not out_of_moves():\n",
    "        move = next_move()\n",
    "        if maze[move.to[0]][move.to[1]] == 3:\n",
    "            return True\n",
    "        display(maze)\n",
    "        visit(maze, move.to)\n",
    "        for m in moves(maze, move.to):\n",
    "            mark(maze, m.to)\n",
    "            save_move(m)\n",
    "    return False"
   ]
  },
  {
   "cell_type": "code",
   "execution_count": 61,
   "metadata": {},
   "outputs": [],
   "source": [
    "move_stack = Stack()\n",
    "\n",
    "def save_move(move):\n",
    "    move_stack.push(move)\n",
    "\n",
    "def next_move():\n",
    "    return move_stack.pop()\n",
    "\n",
    "def out_of_moves():\n",
    "    return move_stack.empty()"
   ]
  },
  {
   "cell_type": "code",
   "execution_count": 63,
   "metadata": {},
   "outputs": [
    {
     "name": "stdout",
     "output_type": "stream",
     "text": [
      "######\n",
      "+++++#\n",
      "#+##+#\n",
      "#+####\n",
      "#+++!O\n",
      "######\n"
     ]
    },
    {
     "data": {
      "text/plain": [
       "True"
      ]
     },
     "execution_count": 63,
     "metadata": {},
     "output_type": "execute_result"
    }
   ],
   "source": [
    "solve_maze(parse_maze(maze_str), (1, 0))"
   ]
  },
  {
   "cell_type": "code",
   "execution_count": 64,
   "metadata": {},
   "outputs": [],
   "source": [
    "maze_str = \"\"\"#################\n",
    "              I #       #     #\n",
    "              # ##### # # # # #\n",
    "              #     # # # # # #\n",
    "              # ### ### # # ###\n",
    "              #   #       #   O\n",
    "              #################\"\"\""
   ]
  },
  {
   "cell_type": "code",
   "execution_count": 65,
   "metadata": {},
   "outputs": [
    {
     "name": "stdout",
     "output_type": "stream",
     "text": [
      "#################\n",
      "++#       #+++++#\n",
      "#+##### # #+#+#+#\n",
      "#+++++# # #+#+#+#\n",
      "#!###+###!#+#+###\n",
      "#   #+++++++#++!O\n",
      "#################\n"
     ]
    },
    {
     "data": {
      "text/plain": [
       "True"
      ]
     },
     "execution_count": 65,
     "metadata": {},
     "output_type": "execute_result"
    }
   ],
   "source": [
    "solve_maze(parse_maze(maze_str), (1, 0))"
   ]
  },
  {
   "cell_type": "code",
   "execution_count": 66,
   "metadata": {},
   "outputs": [],
   "source": [
    "maze_str = \"\"\"#################\n",
    "              I               #\n",
    "              # # # # # # # # #\n",
    "              # # # # # # # # #\n",
    "              # ###############\n",
    "              #               O\n",
    "              #################\"\"\""
   ]
  },
  {
   "cell_type": "code",
   "execution_count": 67,
   "metadata": {},
   "outputs": [
    {
     "name": "stdout",
     "output_type": "stream",
     "text": [
      "#################\n",
      "++++++++++++++++#\n",
      "#+#+#+#+#+#+#+#+#\n",
      "#+#+#+#+#+#+#+#+#\n",
      "#+###############\n",
      "#++++++++++++++!O\n",
      "#################\n"
     ]
    },
    {
     "data": {
      "text/plain": [
       "True"
      ]
     },
     "execution_count": 67,
     "metadata": {},
     "output_type": "execute_result"
    }
   ],
   "source": [
    "solve_maze(parse_maze(maze_str), (1, 0))"
   ]
  },
  {
   "cell_type": "markdown",
   "metadata": {},
   "source": [
    "\"Depth first\" search: natural type of seach when using stack to save moves"
   ]
  },
  {
   "cell_type": "markdown",
   "metadata": {},
   "source": [
    "## 2. Queues"
   ]
  },
  {
   "cell_type": "markdown",
   "metadata": {},
   "source": [
    "Queues are linear data structures wherein we are only permitted to append (\"enqueue\") items onto the rear, and remove (\"dequeue\") items from the front. The oldest item still in a queue is therefore the next one to be dequeued, which is why we refer to a queue as a first-in, first-out (FIFO) structure. It is helpful to think of a queue as being the model for a line at a typical supermarket checkout aisle (first customer in, first customer to be checked out)."
   ]
  },
  {
   "cell_type": "code",
   "execution_count": 92,
   "metadata": {},
   "outputs": [],
   "source": [
    "# array-backed implementation\n",
    "\n",
    "class Queue:\n",
    "    def __init__(self):\n",
    "        self.data = []\n",
    "        self.head = 0\n",
    "\n",
    "    def enqueue(self, val): #O(1)\n",
    "        self.data.append(val)\n",
    "        \n",
    "    def dequeue(self): #O(N)\n",
    "        assert not self.empty()\n",
    "        rv = self.data[self.head]\n",
    "        self.head += 1\n",
    "        #del self.data[0]\n",
    "        return rv\n",
    "    \n",
    "    def empty(self):\n",
    "        return self.head == len(self.data)\n",
    "    \n",
    "    def __bool__(self):\n",
    "        return not self.empty()"
   ]
  },
  {
   "cell_type": "code",
   "execution_count": 93,
   "metadata": {},
   "outputs": [],
   "source": [
    "q = Queue()\n",
    "for x in range(10):\n",
    "    q.enqueue(x)"
   ]
  },
  {
   "cell_type": "code",
   "execution_count": 94,
   "metadata": {},
   "outputs": [
    {
     "name": "stdout",
     "output_type": "stream",
     "text": [
      "0\n",
      "1\n",
      "2\n",
      "3\n",
      "4\n",
      "5\n",
      "6\n",
      "7\n",
      "8\n",
      "9\n"
     ]
    }
   ],
   "source": [
    "while q:\n",
    "    print(q.dequeue())"
   ]
  },
  {
   "cell_type": "code",
   "execution_count": 95,
   "metadata": {},
   "outputs": [],
   "source": [
    "q2 = Queue()\n",
    "for x in range(100):\n",
    "    q2.enqueue(x)\n",
    "    q2.dequeue()"
   ]
  },
  {
   "cell_type": "code",
   "execution_count": 98,
   "metadata": {},
   "outputs": [
    {
     "data": {
      "text/plain": [
       "100"
      ]
     },
     "execution_count": 98,
     "metadata": {},
     "output_type": "execute_result"
    }
   ],
   "source": [
    "len(q2.data)"
   ]
  },
  {
   "cell_type": "code",
   "execution_count": 104,
   "metadata": {},
   "outputs": [],
   "source": [
    "# linked implementation\n",
    "\n",
    "class Queue:\n",
    "    class Node:\n",
    "        def __init__(self, val, next=None):\n",
    "            self.val = val\n",
    "            self.next  = next\n",
    "    \n",
    "    def __init__(self):\n",
    "        self.head = self.tail = None\n",
    "\n",
    "    def enqueue(self, val): #O(1)\n",
    "        if self.tail:\n",
    "            self.tail.next = self.tail = Queue.Node(val)\n",
    "        else:\n",
    "            self.head = self.tail = Queue.Node(val)\n",
    "    \n",
    "    def dequeue(self): #O(1)\n",
    "        assert(self.head)\n",
    "        rv = self.head.val\n",
    "        self.head = self.head.next\n",
    "        if not self.head:\n",
    "            self.tail = None\n",
    "        return rv\n",
    "    \n",
    "    def empty(self):\n",
    "        return self.tail is None\n",
    "    \n",
    "    def __bool__(self):\n",
    "        return not self.empty()"
   ]
  },
  {
   "cell_type": "code",
   "execution_count": 105,
   "metadata": {},
   "outputs": [],
   "source": [
    "q = Queue()\n",
    "for x in range(10):\n",
    "    q.enqueue(x)"
   ]
  },
  {
   "cell_type": "code",
   "execution_count": 106,
   "metadata": {},
   "outputs": [
    {
     "name": "stdout",
     "output_type": "stream",
     "text": [
      "0\n",
      "1\n",
      "2\n",
      "3\n",
      "4\n",
      "5\n",
      "6\n",
      "7\n",
      "8\n",
      "9\n"
     ]
    }
   ],
   "source": [
    "while q:\n",
    "    print(q.dequeue())"
   ]
  },
  {
   "cell_type": "markdown",
   "metadata": {},
   "source": [
    "### ... for tracking execution and backtracking"
   ]
  },
  {
   "cell_type": "code",
   "execution_count": 107,
   "metadata": {},
   "outputs": [],
   "source": [
    "move_queue = Queue()\n",
    "\n",
    "def save_move(move):\n",
    "    move_queue.enqueue(move)\n",
    "\n",
    "def next_move():\n",
    "    return move_queue.dequeue()\n",
    "\n",
    "def out_of_moves():\n",
    "    return move_queue.empty()"
   ]
  },
  {
   "cell_type": "code",
   "execution_count": 108,
   "metadata": {},
   "outputs": [],
   "source": [
    "maze_str = \"\"\"######   \n",
    "              I    #   \n",
    "              # ## #   \n",
    "              # ####   \n",
    "              #    O   \n",
    "              ######\"\"\""
   ]
  },
  {
   "cell_type": "code",
   "execution_count": 109,
   "metadata": {},
   "outputs": [
    {
     "name": "stdout",
     "output_type": "stream",
     "text": [
      "######\n",
      "+++++#\n",
      "#+##+#\n",
      "#+####\n",
      "#+++!O\n",
      "######\n"
     ]
    },
    {
     "data": {
      "text/plain": [
       "True"
      ]
     },
     "execution_count": 109,
     "metadata": {},
     "output_type": "execute_result"
    }
   ],
   "source": [
    "solve_maze(parse_maze(maze_str), (1, 0))"
   ]
  },
  {
   "cell_type": "code",
   "execution_count": 110,
   "metadata": {},
   "outputs": [],
   "source": [
    "maze_str = \"\"\"#################\n",
    "              I #       #     #\n",
    "              # ##### # # # # #\n",
    "              #     # # # # # #\n",
    "              # ### ### # # ###\n",
    "              #   #       #   O\n",
    "              #################\"\"\""
   ]
  },
  {
   "cell_type": "code",
   "execution_count": 111,
   "metadata": {},
   "outputs": [
    {
     "name": "stdout",
     "output_type": "stream",
     "text": [
      "#################\n",
      "++#+++++++#+++++#\n",
      "#+#####+#+#+#+#+#\n",
      "#+++++#+#+#+#+#+#\n",
      "#+###+###+#+#+###\n",
      "#+++#+++++++#++!O\n",
      "#################\n"
     ]
    },
    {
     "data": {
      "text/plain": [
       "True"
      ]
     },
     "execution_count": 111,
     "metadata": {},
     "output_type": "execute_result"
    }
   ],
   "source": [
    "solve_maze(parse_maze(maze_str), (1, 0))"
   ]
  },
  {
   "cell_type": "code",
   "execution_count": 112,
   "metadata": {},
   "outputs": [],
   "source": [
    "maze_str = \"\"\"#################\n",
    "              I               #\n",
    "              # # # # # # # # #\n",
    "              # # # # # # # # #\n",
    "              # ###############\n",
    "              #               O\n",
    "              #################\"\"\""
   ]
  },
  {
   "cell_type": "code",
   "execution_count": 113,
   "metadata": {},
   "outputs": [
    {
     "name": "stdout",
     "output_type": "stream",
     "text": [
      "#################\n",
      "++++++++++++++++#\n",
      "#+#+#+#+#+#+#+#+#\n",
      "#+#+#+#+#+#+#+#+#\n",
      "#+###############\n",
      "#++++++++++++++!O\n",
      "#################\n"
     ]
    },
    {
     "data": {
      "text/plain": [
       "True"
      ]
     },
     "execution_count": 113,
     "metadata": {},
     "output_type": "execute_result"
    }
   ],
   "source": [
    "solve_maze(parse_maze(maze_str), (1, 0))"
   ]
  },
  {
   "cell_type": "markdown",
   "metadata": {},
   "source": [
    "\"breadth-first\" search: good for when other possibilities have infinite routes"
   ]
  },
  {
   "cell_type": "markdown",
   "metadata": {},
   "source": [
    "### ... for doling out work"
   ]
  },
  {
   "cell_type": "code",
   "execution_count": 122,
   "metadata": {},
   "outputs": [],
   "source": [
    "from threading import Thread, Lock\n",
    "from time import sleep\n",
    "import random\n",
    "\n",
    "lock = Lock()\n",
    "def worker_fn(cid, q):\n",
    "    while True:\n",
    "        try:\n",
    "            with lock:\n",
    "                work = q.dequeue()\n",
    "        except: # queue is empty\n",
    "            sleep(1)\n",
    "            continue\n",
    "        if work == 'Stop':\n",
    "            print('Consumer', cid, 'stopping.')\n",
    "            break\n",
    "        else:\n",
    "            print('Consumer', cid, 'processing', work)\n",
    "            sleep(random.random())\n",
    "\n",
    "work_queue = Queue()\n",
    "for i in range(5):\n",
    "    Thread(target=worker_fn, args=(i, work_queue)).start()"
   ]
  },
  {
   "cell_type": "code",
   "execution_count": 123,
   "metadata": {},
   "outputs": [
    {
     "data": {
      "text/plain": [
       "10"
      ]
     },
     "execution_count": 123,
     "metadata": {},
     "output_type": "execute_result"
    }
   ],
   "source": [
    "import threading\n",
    "threading.active_count()"
   ]
  },
  {
   "cell_type": "code",
   "execution_count": 124,
   "metadata": {},
   "outputs": [
    {
     "name": "stdout",
     "output_type": "stream",
     "text": [
      "Consumer 0 processing 0\n",
      "Consumer 1 processing 1\n",
      "Consumer 2 processing 2\n",
      "Consumer 3 processing 3\n",
      "Consumer 4 processing 4\n",
      "Consumer 3 processing 5\n",
      "Consumer 0 processing 6\n",
      "ConsumerConsumer 4 processing 8\n",
      " 0 processing 7\n",
      "Consumer 1 processing 9\n"
     ]
    }
   ],
   "source": [
    "for i in range(10):\n",
    "    with lock:\n",
    "        work_queue.enqueue(i)"
   ]
  },
  {
   "cell_type": "code",
   "execution_count": 125,
   "metadata": {},
   "outputs": [
    {
     "name": "stdout",
     "output_type": "stream",
     "text": [
      "Consumer 2 stopping.\n",
      "Consumer 4 stopping.\n",
      "Consumer 0 stopping.\n",
      "Consumer 3 stopping.\n",
      "Consumer 1 stopping.\n"
     ]
    }
   ],
   "source": [
    "for i in range(5):\n",
    "    with lock:\n",
    "        work_queue.enqueue('Stop')"
   ]
  },
  {
   "cell_type": "markdown",
   "metadata": {},
   "source": [
    "### ... for fair scheduling (aka \"round-robin\" scheduling)"
   ]
  },
  {
   "cell_type": "code",
   "execution_count": 118,
   "metadata": {},
   "outputs": [],
   "source": [
    "from random import randint\n",
    "from time import sleep\n",
    "\n",
    "task_queue = Queue()\n",
    "for i in range(3):\n",
    "    task_queue.enqueue(('Job {}'.format(i), randint(3, 6)))"
   ]
  },
  {
   "cell_type": "code",
   "execution_count": 119,
   "metadata": {},
   "outputs": [
    {
     "name": "stdout",
     "output_type": "stream",
     "text": [
      "('Job 0', 6)\n",
      "('Job 1', 4)\n",
      "('Job 2', 6)\n"
     ]
    }
   ],
   "source": [
    "n = task_queue.head\n",
    "while n:\n",
    "    print(n.val)\n",
    "    n = n.next"
   ]
  },
  {
   "cell_type": "code",
   "execution_count": 120,
   "metadata": {},
   "outputs": [
    {
     "name": "stdout",
     "output_type": "stream",
     "text": [
      "Running Job 0\n",
      "Re-queueuing Job 0 with remaining time = 5\n",
      "Running Job 1\n",
      "Re-queueuing Job 1 with remaining time = 3\n",
      "Running Job 2\n",
      "Re-queueuing Job 2 with remaining time = 5\n",
      "Running Job 0\n",
      "Re-queueuing Job 0 with remaining time = 4\n",
      "Running Job 1\n",
      "Re-queueuing Job 1 with remaining time = 2\n",
      "Running Job 2\n",
      "Re-queueuing Job 2 with remaining time = 4\n",
      "Running Job 0\n",
      "Re-queueuing Job 0 with remaining time = 3\n",
      "Running Job 1\n",
      "Re-queueuing Job 1 with remaining time = 1\n",
      "Running Job 2\n",
      "Re-queueuing Job 2 with remaining time = 3\n",
      "Running Job 0\n",
      "Re-queueuing Job 0 with remaining time = 2\n",
      "Running Job 1\n",
      "* Job 1 done\n",
      "Running Job 2\n",
      "Re-queueuing Job 2 with remaining time = 2\n",
      "Running Job 0\n",
      "Re-queueuing Job 0 with remaining time = 1\n",
      "Running Job 2\n",
      "Re-queueuing Job 2 with remaining time = 1\n",
      "Running Job 0\n",
      "* Job 0 done\n",
      "Running Job 2\n",
      "* Job 2 done\n"
     ]
    }
   ],
   "source": [
    "while not task_queue.empty():\n",
    "    job, time_left = task_queue.dequeue()\n",
    "    print('Running', job)\n",
    "    sleep(1)\n",
    "    time_left -= 1\n",
    "    if time_left > 0:\n",
    "        print('Re-queueuing', job, 'with remaining time =', time_left)\n",
    "        task_queue.enqueue((job, time_left))\n",
    "    else:\n",
    "        print('*', job, 'done')"
   ]
  },
  {
   "cell_type": "markdown",
   "metadata": {},
   "source": [
    "## 3. Run-time analysis"
   ]
  },
  {
   "cell_type": "markdown",
   "metadata": {},
   "source": [
    "Stack & Queue implementations:\n",
    "\n",
    "- Insertion (push and enqueue) = $O(1)$\n",
    "- Deletion (pop and dequeue) = $O(1)$"
   ]
  },
  {
   "cell_type": "markdown",
   "metadata": {},
   "source": [
    "## 4. Closing remarks"
   ]
  },
  {
   "cell_type": "markdown",
   "metadata": {},
   "source": []
  }
 ],
 "metadata": {
  "kernelspec": {
   "display_name": "Python 3",
   "language": "python",
   "name": "python3"
  },
  "language_info": {
   "codemirror_mode": {
    "name": "ipython",
    "version": 3
   },
   "file_extension": ".py",
   "mimetype": "text/x-python",
   "name": "python",
   "nbconvert_exporter": "python",
   "pygments_lexer": "ipython3",
   "version": "3.6.5"
  }
 },
 "nbformat": 4,
 "nbformat_minor": 1
}
